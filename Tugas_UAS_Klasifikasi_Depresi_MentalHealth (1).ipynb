{
  "nbformat": 4,
  "nbformat_minor": 0,
  "metadata": {
    "colab": {
      "provenance": []
    },
    "kernelspec": {
      "name": "python3",
      "display_name": "Python 3"
    },
    "language_info": {
      "name": "python"
    }
  },
  "cells": [
    {
      "cell_type": "markdown",
      "source": [
        "1. Import Library yang Diperlukan\n",
        "\n",
        "Tujuan: Mengimpor pustaka yang dibutuhkan untuk pengolahan data, pembuatan model, dan evaluasi"
      ],
      "metadata": {
        "id": "iVMGdGCYDd3A"
      }
    },
    {
      "cell_type": "code",
      "execution_count": 1,
      "metadata": {
        "colab": {
          "base_uri": "https://localhost:8080/",
          "height": 107
        },
        "id": "4FDGvIHV_LxU",
        "outputId": "c9b3333b-bd5e-40d4-84ad-02d96712d4c0"
      },
      "outputs": [
        {
          "output_type": "display_data",
          "data": {
            "text/plain": [
              "<IPython.core.display.HTML object>"
            ],
            "text/html": [
              "\n",
              "     <input type=\"file\" id=\"files-276329ae-0010-44e8-baee-00ecd015febb\" name=\"files[]\" multiple disabled\n",
              "        style=\"border:none\" />\n",
              "     <output id=\"result-276329ae-0010-44e8-baee-00ecd015febb\">\n",
              "      Upload widget is only available when the cell has been executed in the\n",
              "      current browser session. Please rerun this cell to enable.\n",
              "      </output>\n",
              "      <script>// Copyright 2017 Google LLC\n",
              "//\n",
              "// Licensed under the Apache License, Version 2.0 (the \"License\");\n",
              "// you may not use this file except in compliance with the License.\n",
              "// You may obtain a copy of the License at\n",
              "//\n",
              "//      http://www.apache.org/licenses/LICENSE-2.0\n",
              "//\n",
              "// Unless required by applicable law or agreed to in writing, software\n",
              "// distributed under the License is distributed on an \"AS IS\" BASIS,\n",
              "// WITHOUT WARRANTIES OR CONDITIONS OF ANY KIND, either express or implied.\n",
              "// See the License for the specific language governing permissions and\n",
              "// limitations under the License.\n",
              "\n",
              "/**\n",
              " * @fileoverview Helpers for google.colab Python module.\n",
              " */\n",
              "(function(scope) {\n",
              "function span(text, styleAttributes = {}) {\n",
              "  const element = document.createElement('span');\n",
              "  element.textContent = text;\n",
              "  for (const key of Object.keys(styleAttributes)) {\n",
              "    element.style[key] = styleAttributes[key];\n",
              "  }\n",
              "  return element;\n",
              "}\n",
              "\n",
              "// Max number of bytes which will be uploaded at a time.\n",
              "const MAX_PAYLOAD_SIZE = 100 * 1024;\n",
              "\n",
              "function _uploadFiles(inputId, outputId) {\n",
              "  const steps = uploadFilesStep(inputId, outputId);\n",
              "  const outputElement = document.getElementById(outputId);\n",
              "  // Cache steps on the outputElement to make it available for the next call\n",
              "  // to uploadFilesContinue from Python.\n",
              "  outputElement.steps = steps;\n",
              "\n",
              "  return _uploadFilesContinue(outputId);\n",
              "}\n",
              "\n",
              "// This is roughly an async generator (not supported in the browser yet),\n",
              "// where there are multiple asynchronous steps and the Python side is going\n",
              "// to poll for completion of each step.\n",
              "// This uses a Promise to block the python side on completion of each step,\n",
              "// then passes the result of the previous step as the input to the next step.\n",
              "function _uploadFilesContinue(outputId) {\n",
              "  const outputElement = document.getElementById(outputId);\n",
              "  const steps = outputElement.steps;\n",
              "\n",
              "  const next = steps.next(outputElement.lastPromiseValue);\n",
              "  return Promise.resolve(next.value.promise).then((value) => {\n",
              "    // Cache the last promise value to make it available to the next\n",
              "    // step of the generator.\n",
              "    outputElement.lastPromiseValue = value;\n",
              "    return next.value.response;\n",
              "  });\n",
              "}\n",
              "\n",
              "/**\n",
              " * Generator function which is called between each async step of the upload\n",
              " * process.\n",
              " * @param {string} inputId Element ID of the input file picker element.\n",
              " * @param {string} outputId Element ID of the output display.\n",
              " * @return {!Iterable<!Object>} Iterable of next steps.\n",
              " */\n",
              "function* uploadFilesStep(inputId, outputId) {\n",
              "  const inputElement = document.getElementById(inputId);\n",
              "  inputElement.disabled = false;\n",
              "\n",
              "  const outputElement = document.getElementById(outputId);\n",
              "  outputElement.innerHTML = '';\n",
              "\n",
              "  const pickedPromise = new Promise((resolve) => {\n",
              "    inputElement.addEventListener('change', (e) => {\n",
              "      resolve(e.target.files);\n",
              "    });\n",
              "  });\n",
              "\n",
              "  const cancel = document.createElement('button');\n",
              "  inputElement.parentElement.appendChild(cancel);\n",
              "  cancel.textContent = 'Cancel upload';\n",
              "  const cancelPromise = new Promise((resolve) => {\n",
              "    cancel.onclick = () => {\n",
              "      resolve(null);\n",
              "    };\n",
              "  });\n",
              "\n",
              "  // Wait for the user to pick the files.\n",
              "  const files = yield {\n",
              "    promise: Promise.race([pickedPromise, cancelPromise]),\n",
              "    response: {\n",
              "      action: 'starting',\n",
              "    }\n",
              "  };\n",
              "\n",
              "  cancel.remove();\n",
              "\n",
              "  // Disable the input element since further picks are not allowed.\n",
              "  inputElement.disabled = true;\n",
              "\n",
              "  if (!files) {\n",
              "    return {\n",
              "      response: {\n",
              "        action: 'complete',\n",
              "      }\n",
              "    };\n",
              "  }\n",
              "\n",
              "  for (const file of files) {\n",
              "    const li = document.createElement('li');\n",
              "    li.append(span(file.name, {fontWeight: 'bold'}));\n",
              "    li.append(span(\n",
              "        `(${file.type || 'n/a'}) - ${file.size} bytes, ` +\n",
              "        `last modified: ${\n",
              "            file.lastModifiedDate ? file.lastModifiedDate.toLocaleDateString() :\n",
              "                                    'n/a'} - `));\n",
              "    const percent = span('0% done');\n",
              "    li.appendChild(percent);\n",
              "\n",
              "    outputElement.appendChild(li);\n",
              "\n",
              "    const fileDataPromise = new Promise((resolve) => {\n",
              "      const reader = new FileReader();\n",
              "      reader.onload = (e) => {\n",
              "        resolve(e.target.result);\n",
              "      };\n",
              "      reader.readAsArrayBuffer(file);\n",
              "    });\n",
              "    // Wait for the data to be ready.\n",
              "    let fileData = yield {\n",
              "      promise: fileDataPromise,\n",
              "      response: {\n",
              "        action: 'continue',\n",
              "      }\n",
              "    };\n",
              "\n",
              "    // Use a chunked sending to avoid message size limits. See b/62115660.\n",
              "    let position = 0;\n",
              "    do {\n",
              "      const length = Math.min(fileData.byteLength - position, MAX_PAYLOAD_SIZE);\n",
              "      const chunk = new Uint8Array(fileData, position, length);\n",
              "      position += length;\n",
              "\n",
              "      const base64 = btoa(String.fromCharCode.apply(null, chunk));\n",
              "      yield {\n",
              "        response: {\n",
              "          action: 'append',\n",
              "          file: file.name,\n",
              "          data: base64,\n",
              "        },\n",
              "      };\n",
              "\n",
              "      let percentDone = fileData.byteLength === 0 ?\n",
              "          100 :\n",
              "          Math.round((position / fileData.byteLength) * 100);\n",
              "      percent.textContent = `${percentDone}% done`;\n",
              "\n",
              "    } while (position < fileData.byteLength);\n",
              "  }\n",
              "\n",
              "  // All done.\n",
              "  yield {\n",
              "    response: {\n",
              "      action: 'complete',\n",
              "    }\n",
              "  };\n",
              "}\n",
              "\n",
              "scope.google = scope.google || {};\n",
              "scope.google.colab = scope.google.colab || {};\n",
              "scope.google.colab._files = {\n",
              "  _uploadFiles,\n",
              "  _uploadFilesContinue,\n",
              "};\n",
              "})(self);\n",
              "</script> "
            ]
          },
          "metadata": {}
        },
        {
          "output_type": "stream",
          "name": "stdout",
          "text": [
            "Saving mentalhealth_dataset.xlsx to mentalhealth_dataset.xlsx\n"
          ]
        },
        {
          "output_type": "execute_result",
          "data": {
            "text/plain": [
              "['.config', 'mentalhealth_dataset.xlsx', 'sample_data']"
            ]
          },
          "metadata": {},
          "execution_count": 1
        }
      ],
      "source": [
        "import pandas as pd\n",
        "import numpy as np\n",
        "import seaborn as sns\n",
        "import matplotlib.pyplot as plt\n",
        "from sklearn.model_selection import train_test_split\n",
        "from sklearn.preprocessing import StandardScaler\n",
        "from sklearn.impute import SimpleImputer\n",
        "from sklearn.linear_model import LogisticRegression\n",
        "from sklearn.svm import SVC\n",
        "from sklearn.neighbors import KNeighborsClassifier\n",
        "from sklearn.tree import DecisionTreeClassifier\n",
        "from sklearn.ensemble import RandomForestClassifier, GradientBoostingClassifier\n",
        "from sklearn.metrics import accuracy_score, confusion_matrix, classification_report\n",
        "from sklearn.pipeline import make_pipeline\n",
        "from sklearn.model_selection import GridSearchCV\n",
        "\n",
        "from google.colab import files\n",
        "uploaded = files.upload()\n",
        "\n",
        "import os\n",
        "os.listdir()"
      ]
    },
    {
      "cell_type": "markdown",
      "source": [
        "2. Load Dataset\n",
        "Tujuan: Memuat dataset yang digunakan untuk pelatihan dan pengujian model.\n"
      ],
      "metadata": {
        "id": "OuTq2TITE6f0"
      }
    },
    {
      "cell_type": "code",
      "source": [
        "# step 3\n",
        "# Load dataset\n",
        "df = pd.read_excel('mentalhealth_dataset.xlsx')\n",
        "\n",
        "# Encode categorical variables: Gender, Course, and YearOfStudy\n",
        "df['Gender'] = df['Gender'].map({'Female': 0, 'Male': 1})\n",
        "df['Course'] = df['Course'].map({'Biotechnology': 0, 'Engineering': 1})\n",
        "df['YearOfStudy'] = df['YearOfStudy'].map({'Year 3': 3, 'year 4': 4})\n",
        "\n",
        "# Check the data types and basic info\n",
        "df.info()\n",
        "\n",
        "# Check for missing values\n",
        "df.isnull().sum()"
      ],
      "metadata": {
        "colab": {
          "base_uri": "https://localhost:8080/",
          "height": 985
        },
        "id": "QKMjrhnS_juy",
        "outputId": "a3c42871-99b8-40f7-f297-11bedb3323d4"
      },
      "execution_count": 2,
      "outputs": [
        {
          "output_type": "stream",
          "name": "stdout",
          "text": [
            "<class 'pandas.core.frame.DataFrame'>\n",
            "RangeIndex: 1000 entries, 0 to 999\n",
            "Data columns (total 16 columns):\n",
            " #   Column                      Non-Null Count  Dtype  \n",
            "---  ------                      --------------  -----  \n",
            " 0   Timestamp                   1000 non-null   int64  \n",
            " 1   Gender                      1000 non-null   int64  \n",
            " 2   Age                         1000 non-null   int64  \n",
            " 3   Course                      188 non-null    float64\n",
            " 4   YearOfStudy                 259 non-null    float64\n",
            " 5   CGPA                        1000 non-null   float64\n",
            " 6   Depression                  1000 non-null   int64  \n",
            " 7   Anxiety                     1000 non-null   int64  \n",
            " 8   PanicAttack                 1000 non-null   int64  \n",
            " 9   SpecialistTreatment         1000 non-null   int64  \n",
            " 10  SymptomFrequency_Last7Days  1000 non-null   int64  \n",
            " 11  HasMentalHealthSupport      1000 non-null   int64  \n",
            " 12  SleepQuality                1000 non-null   int64  \n",
            " 13  StudyStressLevel            1000 non-null   int64  \n",
            " 14  StudyHoursPerWeek           1000 non-null   int64  \n",
            " 15  AcademicEngagement          1000 non-null   int64  \n",
            "dtypes: float64(3), int64(13)\n",
            "memory usage: 125.1 KB\n"
          ]
        },
        {
          "output_type": "execute_result",
          "data": {
            "text/plain": [
              "Timestamp                       0\n",
              "Gender                          0\n",
              "Age                             0\n",
              "Course                        812\n",
              "YearOfStudy                   741\n",
              "CGPA                            0\n",
              "Depression                      0\n",
              "Anxiety                         0\n",
              "PanicAttack                     0\n",
              "SpecialistTreatment             0\n",
              "SymptomFrequency_Last7Days      0\n",
              "HasMentalHealthSupport          0\n",
              "SleepQuality                    0\n",
              "StudyStressLevel                0\n",
              "StudyHoursPerWeek               0\n",
              "AcademicEngagement              0\n",
              "dtype: int64"
            ],
            "text/html": [
              "<div>\n",
              "<style scoped>\n",
              "    .dataframe tbody tr th:only-of-type {\n",
              "        vertical-align: middle;\n",
              "    }\n",
              "\n",
              "    .dataframe tbody tr th {\n",
              "        vertical-align: top;\n",
              "    }\n",
              "\n",
              "    .dataframe thead th {\n",
              "        text-align: right;\n",
              "    }\n",
              "</style>\n",
              "<table border=\"1\" class=\"dataframe\">\n",
              "  <thead>\n",
              "    <tr style=\"text-align: right;\">\n",
              "      <th></th>\n",
              "      <th>0</th>\n",
              "    </tr>\n",
              "  </thead>\n",
              "  <tbody>\n",
              "    <tr>\n",
              "      <th>Timestamp</th>\n",
              "      <td>0</td>\n",
              "    </tr>\n",
              "    <tr>\n",
              "      <th>Gender</th>\n",
              "      <td>0</td>\n",
              "    </tr>\n",
              "    <tr>\n",
              "      <th>Age</th>\n",
              "      <td>0</td>\n",
              "    </tr>\n",
              "    <tr>\n",
              "      <th>Course</th>\n",
              "      <td>812</td>\n",
              "    </tr>\n",
              "    <tr>\n",
              "      <th>YearOfStudy</th>\n",
              "      <td>741</td>\n",
              "    </tr>\n",
              "    <tr>\n",
              "      <th>CGPA</th>\n",
              "      <td>0</td>\n",
              "    </tr>\n",
              "    <tr>\n",
              "      <th>Depression</th>\n",
              "      <td>0</td>\n",
              "    </tr>\n",
              "    <tr>\n",
              "      <th>Anxiety</th>\n",
              "      <td>0</td>\n",
              "    </tr>\n",
              "    <tr>\n",
              "      <th>PanicAttack</th>\n",
              "      <td>0</td>\n",
              "    </tr>\n",
              "    <tr>\n",
              "      <th>SpecialistTreatment</th>\n",
              "      <td>0</td>\n",
              "    </tr>\n",
              "    <tr>\n",
              "      <th>SymptomFrequency_Last7Days</th>\n",
              "      <td>0</td>\n",
              "    </tr>\n",
              "    <tr>\n",
              "      <th>HasMentalHealthSupport</th>\n",
              "      <td>0</td>\n",
              "    </tr>\n",
              "    <tr>\n",
              "      <th>SleepQuality</th>\n",
              "      <td>0</td>\n",
              "    </tr>\n",
              "    <tr>\n",
              "      <th>StudyStressLevel</th>\n",
              "      <td>0</td>\n",
              "    </tr>\n",
              "    <tr>\n",
              "      <th>StudyHoursPerWeek</th>\n",
              "      <td>0</td>\n",
              "    </tr>\n",
              "    <tr>\n",
              "      <th>AcademicEngagement</th>\n",
              "      <td>0</td>\n",
              "    </tr>\n",
              "  </tbody>\n",
              "</table>\n",
              "</div><br><label><b>dtype:</b> int64</label>"
            ]
          },
          "metadata": {},
          "execution_count": 2
        }
      ]
    },
    {
      "cell_type": "markdown",
      "source": [
        "3. Pembagian Dataset Menjadi Data Latih dan Uji\n",
        "\n",
        "Tujuan: Membagi dataset menjadi dua bagian: satu untuk pelatihan dan satu untuk pengujian.\n"
      ],
      "metadata": {
        "id": "JLSYFeBZFMHD"
      }
    },
    {
      "cell_type": "code",
      "source": [
        "# Fitur (X) dan target (y)\n",
        "X = df.drop(['Timestamp', 'Depression'], axis=1)\n",
        "y = df['Depression']\n",
        "\n",
        "# Pembagian dataset menjadi data pelatihan dan pengujian\n",
        "X_train, X_test, y_train, y_test = train_test_split(X, y, test_size=0.2, random_state=42)\n"
      ],
      "metadata": {
        "id": "lMKBZm_x_oCS"
      },
      "execution_count": 3,
      "outputs": []
    },
    {
      "cell_type": "markdown",
      "source": [
        "4. Preprocessing: Standardization dan Imputation\n",
        "\n",
        "Tujuan: Melakukan standarisasi data agar model bekerja dengan baik dan mengisi nilai yang hilang (jika ada).\n"
      ],
      "metadata": {
        "id": "fLiJofOYF0pC"
      }
    },
    {
      "cell_type": "code",
      "source": [
        "# Preprocessing: Standardization and imputation\n",
        "scaler = StandardScaler()\n",
        "imputer = SimpleImputer(strategy='mean')\n",
        "\n",
        "# Pipeline untuk preprocessing\n",
        "pipeline = make_pipeline(imputer, scaler)\n",
        "\n",
        "X_train_scaled = pipeline.fit_transform(X_train)\n",
        "X_test_scaled = pipeline.transform(X_test)\n"
      ],
      "metadata": {
        "id": "05N9-apz_pbC"
      },
      "execution_count": 4,
      "outputs": []
    },
    {
      "cell_type": "markdown",
      "source": [
        "5. Membuat dan Melatih Model\n",
        "\n",
        "Tujuan: Membuat dan melatih berbagai model machine learning (algoritma RF, LR, SVM, KNN, DT, GBoost)\n"
      ],
      "metadata": {
        "id": "EuCCPqb7GD2g"
      }
    },
    {
      "cell_type": "code",
      "source": [
        "# Model 1: Random Forest\n",
        "rf_model = RandomForestClassifier(n_estimators=100, random_state=42)\n",
        "rf_model.fit(X_train_scaled, y_train)\n",
        "y_pred_rf = rf_model.predict(X_test_scaled)"
      ],
      "metadata": {
        "id": "YHZBq2Tp_qyS"
      },
      "execution_count": 5,
      "outputs": []
    },
    {
      "cell_type": "code",
      "source": [
        "# Model 2: Logistic Regression\n",
        "log_reg = LogisticRegression(random_state=42)\n",
        "log_reg.fit(X_train_scaled, y_train)\n",
        "y_pred_log_reg = log_reg.predict(X_test_scaled)"
      ],
      "metadata": {
        "id": "EdOrpoooAcuE"
      },
      "execution_count": 6,
      "outputs": []
    },
    {
      "cell_type": "code",
      "source": [
        "# Model 3: Support Vector Machine (SVM)\n",
        "svm = SVC(random_state=42)\n",
        "svm.fit(X_train_scaled, y_train)\n",
        "y_pred_svm = svm.predict(X_test_scaled)"
      ],
      "metadata": {
        "id": "k7G_BxgdAdL4"
      },
      "execution_count": 7,
      "outputs": []
    },
    {
      "cell_type": "code",
      "source": [
        "# Model 4: K-Nearest Neighbors (KNN)\n",
        "knn = KNeighborsClassifier()\n",
        "knn.fit(X_train_scaled, y_train)\n",
        "y_pred_knn = knn.predict(X_test_scaled)"
      ],
      "metadata": {
        "id": "8ft0LMzbAdQP"
      },
      "execution_count": 8,
      "outputs": []
    },
    {
      "cell_type": "code",
      "source": [
        "# Model 5: Decision Tree\n",
        "dt = DecisionTreeClassifier(random_state=42)\n",
        "dt.fit(X_train_scaled, y_train)\n",
        "y_pred_dt = dt.predict(X_test_scaled)"
      ],
      "metadata": {
        "id": "iRKvVvy8AdUn"
      },
      "execution_count": 9,
      "outputs": []
    },
    {
      "cell_type": "code",
      "source": [
        "# Model 6: Gradient Boosting\n",
        "gb = GradientBoostingClassifier(random_state=42)\n",
        "gb.fit(X_train_scaled, y_train)\n",
        "y_pred_gb = gb.predict(X_test_scaled)"
      ],
      "metadata": {
        "id": "SNHqNg8PAkuw"
      },
      "execution_count": 10,
      "outputs": []
    },
    {
      "cell_type": "markdown",
      "source": [
        "6. Evaluasi Model\n",
        "\n",
        "Tujuan: Mengevaluasi performa setiap model menggunakan metrik yang sesuai (akurasi (%))\n"
      ],
      "metadata": {
        "id": "z3CpE_MAGVIo"
      }
    },
    {
      "cell_type": "code",
      "source": [
        "# Menyusun hasil prediksi dan evaluasi untuk setiap model\n",
        "models = {\n",
        "    \"Random Forest\": y_pred_rf,\n",
        "    \"Logistic Regression\": y_pred_log_reg,\n",
        "    \"Support Vector Machine\": y_pred_svm,\n",
        "    \"K-Nearest Neighbors\": y_pred_knn,\n",
        "    \"Decision Tree\": y_pred_dt,\n",
        "    \"Gradient Boosting\": y_pred_gb\n",
        "}"
      ],
      "metadata": {
        "id": "bc93mdZg_rRB"
      },
      "execution_count": 11,
      "outputs": []
    },
    {
      "cell_type": "code",
      "source": [
        "# Menampilkan hasil evaluasi untuk setiap model\n",
        "for model_name, y_pred in models.items():\n",
        "    print(f\"\\n{model_name} - Accuracy: {accuracy_score(y_test, y_pred):.4f}\")\n",
        "    print(f\"Confusion Matrix:\\n{confusion_matrix(y_test, y_pred)}\")\n",
        "    print(f\"Classification Report:\\n{classification_report(y_test, y_pred)}\")\n"
      ],
      "metadata": {
        "colab": {
          "base_uri": "https://localhost:8080/"
        },
        "id": "KrwndvsW_rTy",
        "outputId": "23c6689a-642b-4108-e7b5-549eb485ee8e"
      },
      "execution_count": 12,
      "outputs": [
        {
          "output_type": "stream",
          "name": "stdout",
          "text": [
            "\n",
            "Random Forest - Accuracy: 0.4400\n",
            "Confusion Matrix:\n",
            "[[52 47]\n",
            " [65 36]]\n",
            "Classification Report:\n",
            "              precision    recall  f1-score   support\n",
            "\n",
            "           0       0.44      0.53      0.48        99\n",
            "           1       0.43      0.36      0.39       101\n",
            "\n",
            "    accuracy                           0.44       200\n",
            "   macro avg       0.44      0.44      0.44       200\n",
            "weighted avg       0.44      0.44      0.44       200\n",
            "\n",
            "\n",
            "Logistic Regression - Accuracy: 0.5600\n",
            "Confusion Matrix:\n",
            "[[57 42]\n",
            " [46 55]]\n",
            "Classification Report:\n",
            "              precision    recall  f1-score   support\n",
            "\n",
            "           0       0.55      0.58      0.56        99\n",
            "           1       0.57      0.54      0.56       101\n",
            "\n",
            "    accuracy                           0.56       200\n",
            "   macro avg       0.56      0.56      0.56       200\n",
            "weighted avg       0.56      0.56      0.56       200\n",
            "\n",
            "\n",
            "Support Vector Machine - Accuracy: 0.4600\n",
            "Confusion Matrix:\n",
            "[[52 47]\n",
            " [61 40]]\n",
            "Classification Report:\n",
            "              precision    recall  f1-score   support\n",
            "\n",
            "           0       0.46      0.53      0.49        99\n",
            "           1       0.46      0.40      0.43       101\n",
            "\n",
            "    accuracy                           0.46       200\n",
            "   macro avg       0.46      0.46      0.46       200\n",
            "weighted avg       0.46      0.46      0.46       200\n",
            "\n",
            "\n",
            "K-Nearest Neighbors - Accuracy: 0.4550\n",
            "Confusion Matrix:\n",
            "[[48 51]\n",
            " [58 43]]\n",
            "Classification Report:\n",
            "              precision    recall  f1-score   support\n",
            "\n",
            "           0       0.45      0.48      0.47        99\n",
            "           1       0.46      0.43      0.44       101\n",
            "\n",
            "    accuracy                           0.46       200\n",
            "   macro avg       0.46      0.46      0.45       200\n",
            "weighted avg       0.46      0.46      0.45       200\n",
            "\n",
            "\n",
            "Decision Tree - Accuracy: 0.5350\n",
            "Confusion Matrix:\n",
            "[[59 40]\n",
            " [53 48]]\n",
            "Classification Report:\n",
            "              precision    recall  f1-score   support\n",
            "\n",
            "           0       0.53      0.60      0.56        99\n",
            "           1       0.55      0.48      0.51       101\n",
            "\n",
            "    accuracy                           0.54       200\n",
            "   macro avg       0.54      0.54      0.53       200\n",
            "weighted avg       0.54      0.54      0.53       200\n",
            "\n",
            "\n",
            "Gradient Boosting - Accuracy: 0.5400\n",
            "Confusion Matrix:\n",
            "[[59 40]\n",
            " [52 49]]\n",
            "Classification Report:\n",
            "              precision    recall  f1-score   support\n",
            "\n",
            "           0       0.53      0.60      0.56        99\n",
            "           1       0.55      0.49      0.52       101\n",
            "\n",
            "    accuracy                           0.54       200\n",
            "   macro avg       0.54      0.54      0.54       200\n",
            "weighted avg       0.54      0.54      0.54       200\n",
            "\n"
          ]
        }
      ]
    },
    {
      "cell_type": "markdown",
      "source": [
        "7. Membuat Tabel Perbandingan Akurasi\n",
        "\n",
        "Tujuan: Menyusun tabel yang menampilkan perbandingan akurasi dari setiap model\n"
      ],
      "metadata": {
        "id": "KWvaoA-eGlR3"
      }
    },
    {
      "cell_type": "code",
      "source": [
        "# Membuat tabel perbandingan akurasi\n",
        "accuracy_comparison = pd.DataFrame({\n",
        "    \"Model\": [\"Random Forest\", \"Logistic Regression\", \"Support Vector Machine\", \"K-Nearest Neighbors\", \"Decision Tree\", \"Gradient Boosting\"],\n",
        "    \"Accuracy\": [\n",
        "        accuracy_score(y_test, y_pred_rf),\n",
        "        accuracy_score(y_test, y_pred_log_reg),\n",
        "        accuracy_score(y_test, y_pred_svm),\n",
        "        accuracy_score(y_test, y_pred_knn),\n",
        "        accuracy_score(y_test, y_pred_dt),\n",
        "        accuracy_score(y_test, y_pred_gb)\n",
        "    ]\n",
        "})\n"
      ],
      "metadata": {
        "id": "dZiRHvmV_xGi"
      },
      "execution_count": 13,
      "outputs": []
    },
    {
      "cell_type": "code",
      "source": [
        "# Menampilkan tabel perbandingan akurasi\n",
        "accuracy_comparison.sort_values(by='Accuracy', ascending=False, inplace=True)\n",
        "print(\"\\nModel Accuracy Comparison:\")\n",
        "print(accuracy_comparison)"
      ],
      "metadata": {
        "colab": {
          "base_uri": "https://localhost:8080/"
        },
        "id": "7_tB3ETNA20G",
        "outputId": "8178b240-8324-4e12-c862-3a14935b6ee1"
      },
      "execution_count": 14,
      "outputs": [
        {
          "output_type": "stream",
          "name": "stdout",
          "text": [
            "\n",
            "Model Accuracy Comparison:\n",
            "                    Model  Accuracy\n",
            "1     Logistic Regression     0.560\n",
            "5       Gradient Boosting     0.540\n",
            "4           Decision Tree     0.535\n",
            "2  Support Vector Machine     0.460\n",
            "3     K-Nearest Neighbors     0.455\n",
            "0           Random Forest     0.440\n"
          ]
        }
      ]
    },
    {
      "cell_type": "markdown",
      "source": [
        "9. Visualisasi Perbandingan Akurasi\n",
        "\n",
        "Tujuan: Membuat grafik untuk memvisualisasikan perbandingan akurasi model\n"
      ],
      "metadata": {
        "id": "_w2L3TM-Gsc2"
      }
    },
    {
      "cell_type": "code",
      "source": [
        "# Visualisasi perbandingan akurasi\n",
        "plt.figure(figsize=(10, 6))\n",
        "sns.barplot(x=\"Accuracy\", y=\"Model\", data=accuracy_comparison, palette=\"viridis\")\n",
        "plt.title('Comparison of Model Accuracies')\n",
        "plt.show()"
      ],
      "metadata": {
        "colab": {
          "base_uri": "https://localhost:8080/",
          "height": 471
        },
        "id": "u56fEitbA57G",
        "outputId": "3c31719c-4b59-475d-96cb-906b9e09d9ea"
      },
      "execution_count": 15,
      "outputs": [
        {
          "output_type": "stream",
          "name": "stderr",
          "text": [
            "<ipython-input-15-bbde276b9947>:3: FutureWarning: \n",
            "\n",
            "Passing `palette` without assigning `hue` is deprecated and will be removed in v0.14.0. Assign the `y` variable to `hue` and set `legend=False` for the same effect.\n",
            "\n",
            "  sns.barplot(x=\"Accuracy\", y=\"Model\", data=accuracy_comparison, palette=\"viridis\")\n"
          ]
        },
        {
          "output_type": "display_data",
          "data": {
            "text/plain": [
              "<Figure size 1000x600 with 1 Axes>"
            ],
            "image/png": "[encoded data removed]"
          },
          "metadata": {}
        }
      ]
    }
  ]
}